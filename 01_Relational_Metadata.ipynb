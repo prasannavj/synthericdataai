{
 "cells": [
  {
   "cell_type": "markdown",
   "metadata": {},
   "source": [
    "Relational Metadata\n",
    "===================\n",
    "\n",
    "In order to work with complex dataset structures you will need to pass\n",
    "additional information about your data to SDV using `Metadata`.\n",
    "\n",
    "Let\\'s go over an example to see how to use it.\n",
    "\n",
    "Load the demo data\n",
    "------------------\n",
    "\n",
    "In order to follow this tutorial you will need to load one of the demo\n",
    "datasets included in SDV by calling the `sdv.load_demo` function."
   ]
  },
  {
   "cell_type": "code",
   "execution_count": 1,
   "metadata": {
    "attributes": {
     "classes": [
      ""
     ],
     "id": ""
    }
   },
   "outputs": [],
   "source": [
    "from sdv import load_demo\n",
    "\n",
    "tables = load_demo()"
   ]
  },
  {
   "cell_type": "markdown",
   "metadata": {},
   "source": [
    "The output of this function will be a dict that contains several tables\n",
    "as `pandas.DataFarmes`."
   ]
  },
  {
   "cell_type": "code",
   "execution_count": 2,
   "metadata": {
    "attributes": {
     "classes": [
      ""
     ],
     "id": ""
    }
   },
   "outputs": [
    {
     "data": {
      "text/plain": [
       "{'users':    user_id country gender  age\n",
       " 0        0      US      M   34\n",
       " 1        1      UK      F   23\n",
       " 2        2      ES   None   44\n",
       " 3        3      UK      M   22\n",
       " 4        4      US      F   54\n",
       " 5        5      DE      M   57\n",
       " 6        6      BG      F   45\n",
       " 7        7      ES   None   41\n",
       " 8        8      FR      F   23\n",
       " 9        9      UK   None   30,\n",
       " 'sessions':    session_id  user_id  device       os  minutes\n",
       " 0           0        0  mobile  android       23\n",
       " 1           1        1  tablet      ios       12\n",
       " 2           2        2  tablet  android        8\n",
       " 3           3        3  mobile  android       13\n",
       " 4           4        4  mobile      ios        9\n",
       " 5           5        5  mobile  android       32\n",
       " 6           6        6  mobile      ios        7\n",
       " 7           7        7  tablet      ios       21\n",
       " 8           8        8  mobile      ios       29\n",
       " 9           9        9  tablet      ios       34,\n",
       " 'transactions':    transaction_id  session_id           timestamp  amount  cancelled\n",
       " 0               0           0 2019-01-01 12:34:32   100.0      False\n",
       " 1               1           1 2019-01-01 12:42:21    55.3      False\n",
       " 2               2           2 2019-01-07 17:23:11    79.5      False\n",
       " 3               3           3 2019-01-10 11:08:57   112.1       True\n",
       " 4               4           4 2019-01-10 21:54:08   110.0       True\n",
       " 5               5           5 2019-01-11 11:21:20    76.3      False\n",
       " 6               6           6 2019-01-22 14:44:10    89.5      False\n",
       " 7               7           7 2019-01-23 10:14:09   132.1       True\n",
       " 8               8           8 2019-01-27 16:09:17    68.0      False\n",
       " 9               9           9 2019-01-29 12:10:48    99.9      False}"
      ]
     },
     "execution_count": 2,
     "metadata": {},
     "output_type": "execute_result"
    }
   ],
   "source": [
    "tables"
   ]
  },
  {
   "cell_type": "markdown",
   "metadata": {},
   "source": [
    "You can observe that this dataset has the following structure:\n",
    "\n",
    "-   A `users` table with:\n",
    "    -   A `user_id` field which acts as the table's primary key.\n",
    "    -   Two categorical fields, `country` and `gender`, and an integer\n",
    "        column `age`.\n",
    "-   A `sessions` table with:\n",
    "    -   A `session_id` field which acts as the table's primary key.\n",
    "    -   A `user_id` field which is a foreign key to the `users` table\n",
    "        and defines a One-to-Many relationship with it (one `user` can\n",
    "        have many `sessions`).\n",
    "    -   Two categorical fields `device` and `os`.\n",
    "-   A `transactions` table with:\n",
    "    -   A `transaction_id` field which acts as the table's primary key.\n",
    "    -   A `session_id` field which is a foreign key to the `sessions`\n",
    "        table and defines a One-to-Many relationship with it (one `user`\n",
    "        can make many `transactions` within a single `session`).\n",
    "    -   A datetime field, `timestamp`.\n",
    "    -   A float field, `amount`.\n",
    "    -   A boolean field, `approved`.\n",
    "\n",
    "Let us now see how to build a `Metadata` object that represents this\n",
    "dataset.\n",
    "\n",
    "The Metadata class\n",
    "------------------\n",
    "\n",
    "In SDV, the structure of a dataset is represented using the class\n",
    "`sdv.Metadata`, which contains all the information that SDV needs in\n",
    "order to optimally learn the dataset and generate synthetic versions of\n",
    "it.\n",
    "\n",
    "In order to create a `Metadata` for our dataset, you will first need to\n",
    "import the class and create an empty instance:"
   ]
  },
  {
   "cell_type": "code",
   "execution_count": 3,
   "metadata": {
    "attributes": {
     "classes": [
      ""
     ],
     "id": ""
    }
   },
   "outputs": [
    {
     "data": {
      "text/plain": [
       "Metadata\n",
       "  root_path: .\n",
       "  tables: []\n",
       "  relationships:"
      ]
     },
     "execution_count": 3,
     "metadata": {},
     "output_type": "execute_result"
    }
   ],
   "source": [
    "from sdv import Metadata\n",
    "\n",
    "metadata = Metadata()\n",
    "metadata"
   ]
  },
  {
   "cell_type": "markdown",
   "metadata": {},
   "source": [
    "Add a Table\n",
    "-----------\n",
    "\n",
    "Once you have your `Metadata` instance ready you can start adding\n",
    "tables.\n",
    "\n",
    "In this example, you will add the table `users`, which is the parent\n",
    "table of your dataset, indicating which is its Primary Key field,\n",
    "`user_id`.\n",
    "\n",
    "Note that indicating the Primary Key is optional and can be skipped if\n",
    "your table has none, but if a table does not have one, you will not be\n",
    "able to add any child tables to it."
   ]
  },
  {
   "cell_type": "code",
   "execution_count": 4,
   "metadata": {
    "attributes": {
     "classes": [
      ""
     ],
     "id": ""
    }
   },
   "outputs": [],
   "source": [
    "metadata.add_table(\n",
    "    name='users',\n",
    "    data=tables['users'],\n",
    "    primary_key='user_id'\n",
    ")"
   ]
  },
  {
   "cell_type": "markdown",
   "metadata": {},
   "source": [
    "At this point, our metadata only contains one table and, of course, no\n",
    "relationships:"
   ]
  },
  {
   "cell_type": "code",
   "execution_count": 5,
   "metadata": {
    "attributes": {
     "classes": [
      ""
     ],
     "id": ""
    }
   },
   "outputs": [
    {
     "data": {
      "text/plain": [
       "Metadata\n",
       "  root_path: .\n",
       "  tables: ['users']\n",
       "  relationships:"
      ]
     },
     "execution_count": 5,
     "metadata": {},
     "output_type": "execute_result"
    }
   ],
   "source": [
    "metadata"
   ]
  },
  {
   "cell_type": "markdown",
   "metadata": {},
   "source": [
    "However, the `Metadata` instance will have already analyzed all the\n",
    "columns in the passed table and identified the different data types and\n",
    "subtypes, and will properly indicate that the `user_id` column is the\n",
    "table primary key.\n",
    "\n",
    "You can see so by calling the `visualize` method of your `metadata`\n",
    "instance:"
   ]
  },
  {
   "cell_type": "code",
   "execution_count": 9,
   "metadata": {
    "attributes": {
     "classes": [
      ""
     ],
     "id": ""
    }
   },
   "outputs": [
    {
     "data": {
      "image/svg+xml": [
       "<?xml version=\"1.0\" encoding=\"UTF-8\" standalone=\"no\"?>\n",
       "<!DOCTYPE svg PUBLIC \"-//W3C//DTD SVG 1.1//EN\"\n",
       " \"http://www.w3.org/Graphics/SVG/1.1/DTD/svg11.dtd\">\n",
       "<!-- Generated by graphviz version 2.40.1 (20161225.0304)\n",
       " -->\n",
       "<!-- Title: Metadata Pages: 1 -->\n",
       "<svg width=\"201pt\" height=\"123pt\"\n",
       " viewBox=\"0.00 0.00 201.00 123.00\" xmlns=\"http://www.w3.org/2000/svg\" xmlns:xlink=\"http://www.w3.org/1999/xlink\">\n",
       "<g id=\"graph0\" class=\"graph\" transform=\"scale(1 1) rotate(0) translate(4 119)\">\n",
       "<title>Metadata</title>\n",
       "<polygon fill=\"#ffffff\" stroke=\"transparent\" points=\"-4,4 -4,-119 197,-119 197,4 -4,4\"/>\n",
       "<!-- users -->\n",
       "<g id=\"node1\" class=\"node\">\n",
       "<title>users</title>\n",
       "<path fill=\"#ffec8b\" stroke=\"#000000\" d=\"M12,-.5C12,-.5 181,-.5 181,-.5 187,-.5 193,-6.5 193,-12.5 193,-12.5 193,-102.5 193,-102.5 193,-108.5 187,-114.5 181,-114.5 181,-114.5 12,-114.5 12,-114.5 6,-114.5 0,-108.5 0,-102.5 0,-102.5 0,-12.5 0,-12.5 0,-6.5 6,-.5 12,-.5\"/>\n",
       "<text text-anchor=\"middle\" x=\"96.5\" y=\"-99.3\" font-family=\"Times,serif\" font-size=\"14.00\" fill=\"#000000\">users</text>\n",
       "<polyline fill=\"none\" stroke=\"#000000\" points=\"0,-91.5 193,-91.5 \"/>\n",
       "<text text-anchor=\"start\" x=\"8\" y=\"-76.3\" font-family=\"Times,serif\" font-size=\"14.00\" fill=\"#000000\">user_id : id &#45; integer</text>\n",
       "<text text-anchor=\"start\" x=\"8\" y=\"-61.3\" font-family=\"Times,serif\" font-size=\"14.00\" fill=\"#000000\">country : categorical</text>\n",
       "<text text-anchor=\"start\" x=\"8\" y=\"-46.3\" font-family=\"Times,serif\" font-size=\"14.00\" fill=\"#000000\">gender : categorical</text>\n",
       "<text text-anchor=\"start\" x=\"8\" y=\"-31.3\" font-family=\"Times,serif\" font-size=\"14.00\" fill=\"#000000\">age : numerical &#45; integer</text>\n",
       "<polyline fill=\"none\" stroke=\"#000000\" points=\"0,-23.5 193,-23.5 \"/>\n",
       "<text text-anchor=\"start\" x=\"8\" y=\"-8.3\" font-family=\"Times,serif\" font-size=\"14.00\" fill=\"#000000\">Primary key: user_id</text>\n",
       "</g>\n",
       "</g>\n",
       "</svg>\n"
      ],
      "text/plain": [
       "<graphviz.graphs.Digraph at 0x7fa13b968b10>"
      ]
     },
     "execution_count": 9,
     "metadata": {},
     "output_type": "execute_result"
    }
   ],
   "source": [
    "metadata.visualize()"
   ]
  },
  {
   "cell_type": "markdown",
   "metadata": {},
   "source": [
    "Or you can obtain this information in a machine-readable format by\n",
    "calling the `get_table_meta` method:"
   ]
  },
  {
   "cell_type": "code",
   "execution_count": 10,
   "metadata": {
    "attributes": {
     "classes": [
      ""
     ],
     "id": ""
    }
   },
   "outputs": [
    {
     "data": {
      "text/plain": [
       "{'fields': {'user_id': {'type': 'id', 'subtype': 'integer'},\n",
       "  'country': {'type': 'categorical'},\n",
       "  'gender': {'type': 'categorical'},\n",
       "  'age': {'type': 'numerical', 'subtype': 'integer'}},\n",
       " 'primary_key': 'user_id'}"
      ]
     },
     "execution_count": 10,
     "metadata": {},
     "output_type": "execute_result"
    }
   ],
   "source": [
    "metadata.get_table_meta('users')"
   ]
  },
  {
   "cell_type": "markdown",
   "metadata": {},
   "source": [
    "Add a Child Table\n",
    "-----------------\n",
    "\n",
    "Now that you have one parent table, you will add its child table\n",
    "`sessions`, which is related to the `users` table in a parent-child\n",
    "relationship where each `user` can have multiple `sessions`, and each\n",
    "`session` belongs to one and only one `user`.\n",
    "\n",
    "In order to specify this, while creating the `sessions` table you have\n",
    "to indicate the name of the parent table, `users`, and the field from\n",
    "the `sessions` table that acts as the foreign key, which in this case is\n",
    "called `user_id`.\n",
    "\n",
    "With this, apart from analyzing all the columns and indicating the\n",
    "primary key like in the previous step, the `Metadata` instance will\n",
    "specify a relationship between the two tables by adding a property to\n",
    "the `user_id` field that indicates that it is related to the `user_id`\n",
    "field in the `users` table."
   ]
  },
  {
   "cell_type": "code",
   "execution_count": 11,
   "metadata": {
    "attributes": {
     "classes": [
      ""
     ],
     "id": ""
    }
   },
   "outputs": [],
   "source": [
    "metadata.add_table(\n",
    "    name='sessions',\n",
    "    data=tables['sessions'],\n",
    "    primary_key='session_id',\n",
    "    parent='users',\n",
    "    foreign_key='user_id'\n",
    ")"
   ]
  },
  {
   "cell_type": "markdown",
   "metadata": {},
   "source": [
    "Now we can see how the table and the relationship have been registered:"
   ]
  },
  {
   "cell_type": "code",
   "execution_count": 12,
   "metadata": {
    "attributes": {
     "classes": [
      ""
     ],
     "id": ""
    }
   },
   "outputs": [
    {
     "data": {
      "text/plain": [
       "Metadata\n",
       "  root_path: .\n",
       "  tables: ['users', 'sessions']\n",
       "  relationships:\n",
       "    sessions.user_id -> users.user_id"
      ]
     },
     "execution_count": 12,
     "metadata": {},
     "output_type": "execute_result"
    }
   ],
   "source": [
    "metadata"
   ]
  },
  {
   "cell_type": "markdown",
   "metadata": {},
   "source": [
    "### Add a table specifying field properties\n",
    "\n",
    "There are situations where the `Metadata` analysis is not able to figure\n",
    "out some data types or subtypes, or to deduce some properties of the\n",
    "field such as the datetime format.\n",
    "\n",
    "In these situations, you can pass a dictionary with the exact metadata\n",
    "of those fields, which will overwrite the deductions from the analysis\n",
    "process.\n",
    "\n",
    "In this next example, you will be adding a `transactions` table, which\n",
    "is related to the previous `sessions` table, and contains a `datetime`\n",
    "field which needs to have the datetime format specified."
   ]
  },
  {
   "cell_type": "code",
   "execution_count": 13,
   "metadata": {
    "attributes": {
     "classes": [
      ""
     ],
     "id": ""
    }
   },
   "outputs": [],
   "source": [
    "transactions_fields = {\n",
    "    'timestamp': {\n",
    "        'type': 'datetime',\n",
    "        'format': '%Y-%m-%d'\n",
    "    }\n",
    "}\n",
    "\n",
    "metadata.add_table(\n",
    "    name='transactions',\n",
    "    data=tables['transactions'],\n",
    "    fields_metadata=transactions_fields,\n",
    "    primary_key='transaction_id',\n",
    "    parent='sessions'\n",
    ")"
   ]
  },
  {
   "cell_type": "markdown",
   "metadata": {},
   "source": [
    "Let\\'s see what our Metadata looks like right now:"
   ]
  },
  {
   "cell_type": "code",
   "execution_count": 14,
   "metadata": {
    "attributes": {
     "classes": [
      ""
     ],
     "id": ""
    }
   },
   "outputs": [
    {
     "data": {
      "text/plain": [
       "{'tables': {'users': {'fields': {'user_id': {'type': 'id',\n",
       "     'subtype': 'integer'},\n",
       "    'country': {'type': 'categorical'},\n",
       "    'gender': {'type': 'categorical'},\n",
       "    'age': {'type': 'numerical', 'subtype': 'integer'}},\n",
       "   'primary_key': 'user_id'},\n",
       "  'sessions': {'fields': {'session_id': {'type': 'id', 'subtype': 'integer'},\n",
       "    'user_id': {'type': 'id',\n",
       "     'subtype': 'integer',\n",
       "     'ref': {'table': 'users', 'field': 'user_id'}},\n",
       "    'device': {'type': 'categorical'},\n",
       "    'os': {'type': 'categorical'},\n",
       "    'minutes': {'type': 'numerical', 'subtype': 'integer'}},\n",
       "   'primary_key': 'session_id'},\n",
       "  'transactions': {'fields': {'timestamp': {'type': 'datetime',\n",
       "     'format': '%Y-%m-%d'},\n",
       "    'transaction_id': {'type': 'id', 'subtype': 'integer'},\n",
       "    'session_id': {'type': 'id',\n",
       "     'subtype': 'integer',\n",
       "     'ref': {'table': 'sessions', 'field': 'session_id'}},\n",
       "    'amount': {'type': 'numerical', 'subtype': 'float'},\n",
       "    'cancelled': {'type': 'boolean'}},\n",
       "   'primary_key': 'transaction_id'}}}"
      ]
     },
     "execution_count": 14,
     "metadata": {},
     "output_type": "execute_result"
    }
   ],
   "source": [
    "metadata\n",
    "metadata.to_dict()"
   ]
  },
  {
   "cell_type": "code",
   "execution_count": 15,
   "metadata": {
    "attributes": {
     "classes": [
      ""
     ],
     "id": ""
    }
   },
   "outputs": [
    {
     "data": {
      "image/svg+xml": [
       "<?xml version=\"1.0\" encoding=\"UTF-8\" standalone=\"no\"?>\n",
       "<!DOCTYPE svg PUBLIC \"-//W3C//DTD SVG 1.1//EN\"\n",
       " \"http://www.w3.org/Graphics/SVG/1.1/DTD/svg11.dtd\">\n",
       "<!-- Generated by graphviz version 2.40.1 (20161225.0304)\n",
       " -->\n",
       "<!-- Title: Metadata Pages: 1 -->\n",
       "<svg width=\"478pt\" height=\"515pt\"\n",
       " viewBox=\"0.00 0.00 477.50 515.00\" xmlns=\"http://www.w3.org/2000/svg\" xmlns:xlink=\"http://www.w3.org/1999/xlink\">\n",
       "<g id=\"graph0\" class=\"graph\" transform=\"scale(1 1) rotate(0) translate(4 511)\">\n",
       "<title>Metadata</title>\n",
       "<polygon fill=\"#ffffff\" stroke=\"transparent\" points=\"-4,4 -4,-511 473.5,-511 473.5,4 -4,4\"/>\n",
       "<!-- users -->\n",
       "<g id=\"node1\" class=\"node\">\n",
       "<title>users</title>\n",
       "<path fill=\"#ffec8b\" stroke=\"#000000\" d=\"M45,-392.5C45,-392.5 214,-392.5 214,-392.5 220,-392.5 226,-398.5 226,-404.5 226,-404.5 226,-494.5 226,-494.5 226,-500.5 220,-506.5 214,-506.5 214,-506.5 45,-506.5 45,-506.5 39,-506.5 33,-500.5 33,-494.5 33,-494.5 33,-404.5 33,-404.5 33,-398.5 39,-392.5 45,-392.5\"/>\n",
       "<text text-anchor=\"middle\" x=\"129.5\" y=\"-491.3\" font-family=\"Times,serif\" font-size=\"14.00\" fill=\"#000000\">users</text>\n",
       "<polyline fill=\"none\" stroke=\"#000000\" points=\"33,-483.5 226,-483.5 \"/>\n",
       "<text text-anchor=\"start\" x=\"41\" y=\"-468.3\" font-family=\"Times,serif\" font-size=\"14.00\" fill=\"#000000\">user_id : id &#45; integer</text>\n",
       "<text text-anchor=\"start\" x=\"41\" y=\"-453.3\" font-family=\"Times,serif\" font-size=\"14.00\" fill=\"#000000\">country : categorical</text>\n",
       "<text text-anchor=\"start\" x=\"41\" y=\"-438.3\" font-family=\"Times,serif\" font-size=\"14.00\" fill=\"#000000\">gender : categorical</text>\n",
       "<text text-anchor=\"start\" x=\"41\" y=\"-423.3\" font-family=\"Times,serif\" font-size=\"14.00\" fill=\"#000000\">age : numerical &#45; integer</text>\n",
       "<polyline fill=\"none\" stroke=\"#000000\" points=\"33,-415.5 226,-415.5 \"/>\n",
       "<text text-anchor=\"start\" x=\"41\" y=\"-400.3\" font-family=\"Times,serif\" font-size=\"14.00\" fill=\"#000000\">Primary key: user_id</text>\n",
       "</g>\n",
       "<!-- sessions -->\n",
       "<g id=\"node2\" class=\"node\">\n",
       "<title>sessions</title>\n",
       "<path fill=\"#ffec8b\" stroke=\"#000000\" d=\"M29,-196.5C29,-196.5 230,-196.5 230,-196.5 236,-196.5 242,-202.5 242,-208.5 242,-208.5 242,-328.5 242,-328.5 242,-334.5 236,-340.5 230,-340.5 230,-340.5 29,-340.5 29,-340.5 23,-340.5 17,-334.5 17,-328.5 17,-328.5 17,-208.5 17,-208.5 17,-202.5 23,-196.5 29,-196.5\"/>\n",
       "<text text-anchor=\"middle\" x=\"129.5\" y=\"-325.3\" font-family=\"Times,serif\" font-size=\"14.00\" fill=\"#000000\">sessions</text>\n",
       "<polyline fill=\"none\" stroke=\"#000000\" points=\"17,-317.5 242,-317.5 \"/>\n",
       "<text text-anchor=\"start\" x=\"25\" y=\"-302.3\" font-family=\"Times,serif\" font-size=\"14.00\" fill=\"#000000\">session_id : id &#45; integer</text>\n",
       "<text text-anchor=\"start\" x=\"25\" y=\"-287.3\" font-family=\"Times,serif\" font-size=\"14.00\" fill=\"#000000\">user_id : id &#45; integer</text>\n",
       "<text text-anchor=\"start\" x=\"25\" y=\"-272.3\" font-family=\"Times,serif\" font-size=\"14.00\" fill=\"#000000\">device : categorical</text>\n",
       "<text text-anchor=\"start\" x=\"25\" y=\"-257.3\" font-family=\"Times,serif\" font-size=\"14.00\" fill=\"#000000\">os : categorical</text>\n",
       "<text text-anchor=\"start\" x=\"25\" y=\"-242.3\" font-family=\"Times,serif\" font-size=\"14.00\" fill=\"#000000\">minutes : numerical &#45; integer</text>\n",
       "<polyline fill=\"none\" stroke=\"#000000\" points=\"17,-234.5 242,-234.5 \"/>\n",
       "<text text-anchor=\"start\" x=\"25\" y=\"-219.3\" font-family=\"Times,serif\" font-size=\"14.00\" fill=\"#000000\">Primary key: session_id</text>\n",
       "<text text-anchor=\"start\" x=\"25\" y=\"-204.3\" font-family=\"Times,serif\" font-size=\"14.00\" fill=\"#000000\">Foreign key (users): user_id</text>\n",
       "</g>\n",
       "<!-- users&#45;&gt;sessions -->\n",
       "<g id=\"edge1\" class=\"edge\">\n",
       "<title>users&#45;&gt;sessions</title>\n",
       "<path fill=\"none\" stroke=\"#000000\" d=\"M129.5,-392.2305C129.5,-379.0626 129.5,-364.8049 129.5,-350.8104\"/>\n",
       "<polygon fill=\"none\" stroke=\"#000000\" points=\"133,-340.6861 129.5001,-350.6862 126,-340.6862 133,-340.6861\"/>\n",
       "<text text-anchor=\"middle\" x=\"253.5\" y=\"-362.8\" font-family=\"Times,serif\" font-size=\"14.00\" fill=\"#000000\"> &#160;&#160;sessions.user_id &gt; users.user_id</text>\n",
       "</g>\n",
       "<!-- transactions -->\n",
       "<g id=\"node3\" class=\"node\">\n",
       "<title>transactions</title>\n",
       "<path fill=\"#ffec8b\" stroke=\"#000000\" d=\"M12,-.5C12,-.5 247,-.5 247,-.5 253,-.5 259,-6.5 259,-12.5 259,-12.5 259,-132.5 259,-132.5 259,-138.5 253,-144.5 247,-144.5 247,-144.5 12,-144.5 12,-144.5 6,-144.5 0,-138.5 0,-132.5 0,-132.5 0,-12.5 0,-12.5 0,-6.5 6,-.5 12,-.5\"/>\n",
       "<text text-anchor=\"middle\" x=\"129.5\" y=\"-129.3\" font-family=\"Times,serif\" font-size=\"14.00\" fill=\"#000000\">transactions</text>\n",
       "<polyline fill=\"none\" stroke=\"#000000\" points=\"0,-121.5 259,-121.5 \"/>\n",
       "<text text-anchor=\"start\" x=\"8\" y=\"-106.3\" font-family=\"Times,serif\" font-size=\"14.00\" fill=\"#000000\">timestamp : datetime</text>\n",
       "<text text-anchor=\"start\" x=\"8\" y=\"-91.3\" font-family=\"Times,serif\" font-size=\"14.00\" fill=\"#000000\">transaction_id : id &#45; integer</text>\n",
       "<text text-anchor=\"start\" x=\"8\" y=\"-76.3\" font-family=\"Times,serif\" font-size=\"14.00\" fill=\"#000000\">session_id : id &#45; integer</text>\n",
       "<text text-anchor=\"start\" x=\"8\" y=\"-61.3\" font-family=\"Times,serif\" font-size=\"14.00\" fill=\"#000000\">amount : numerical &#45; float</text>\n",
       "<text text-anchor=\"start\" x=\"8\" y=\"-46.3\" font-family=\"Times,serif\" font-size=\"14.00\" fill=\"#000000\">cancelled : boolean</text>\n",
       "<polyline fill=\"none\" stroke=\"#000000\" points=\"0,-38.5 259,-38.5 \"/>\n",
       "<text text-anchor=\"start\" x=\"8\" y=\"-23.3\" font-family=\"Times,serif\" font-size=\"14.00\" fill=\"#000000\">Primary key: transaction_id</text>\n",
       "<text text-anchor=\"start\" x=\"8\" y=\"-8.3\" font-family=\"Times,serif\" font-size=\"14.00\" fill=\"#000000\">Foreign key (sessions): session_id</text>\n",
       "</g>\n",
       "<!-- sessions&#45;&gt;transactions -->\n",
       "<g id=\"edge2\" class=\"edge\">\n",
       "<title>sessions&#45;&gt;transactions</title>\n",
       "<path fill=\"none\" stroke=\"#000000\" d=\"M129.5,-196.3518C129.5,-182.9568 129.5,-168.8678 129.5,-155.187\"/>\n",
       "<polygon fill=\"none\" stroke=\"#000000\" points=\"133,-144.823 129.5001,-154.8231 126,-144.8231 133,-144.823\"/>\n",
       "<text text-anchor=\"middle\" x=\"299.5\" y=\"-166.8\" font-family=\"Times,serif\" font-size=\"14.00\" fill=\"#000000\"> &#160;&#160;transactions.session_id &gt; sessions.session_id</text>\n",
       "</g>\n",
       "</g>\n",
       "</svg>\n"
      ],
      "text/plain": [
       "<graphviz.graphs.Digraph at 0x7fa1bce22610>"
      ]
     },
     "execution_count": 15,
     "metadata": {},
     "output_type": "execute_result"
    }
   ],
   "source": [
    "metadata.visualize()"
   ]
  },
  {
   "cell_type": "markdown",
   "metadata": {},
   "source": [
    "Metadata JSON format\n",
    "--------------------\n",
    "\n",
    "The `Metadata` objects can also be saved as a JSON file and later on\n",
    "loaded from them.\n",
    "\n",
    "In order to save the current `metadata` as a JSON file, all you need to\n",
    "do is call the `to_json` method passing the path to the JSON file that\n",
    "you want to create."
   ]
  },
  {
   "cell_type": "code",
   "execution_count": 16,
   "metadata": {
    "attributes": {
     "classes": [
      ""
     ],
     "id": ""
    }
   },
   "outputs": [],
   "source": [
    "metadata.to_json('demo_metadata.json')"
   ]
  },
  {
   "cell_type": "markdown",
   "metadata": {},
   "source": [
    "You can see that the contents of the created file are very similar to\n",
    "the `dict` representation of the metadata:"
   ]
  },
  {
   "cell_type": "code",
   "execution_count": 17,
   "metadata": {
    "attributes": {
     "classes": [
      ""
     ],
     "id": ""
    }
   },
   "outputs": [
    {
     "name": "stdout",
     "output_type": "stream",
     "text": [
      "{\n",
      "    \"tables\": {\n",
      "        \"users\": {\n",
      "            \"fields\": {\n",
      "                \"user_id\": {\n",
      "                    \"type\": \"id\",\n",
      "                    \"subtype\": \"integer\"\n",
      "                },\n",
      "                \"country\": {\n",
      "                    \"type\": \"categorical\"\n",
      "                },\n",
      "                \"gender\": {\n",
      "                    \"type\": \"categorical\"\n",
      "                },\n",
      "                \"age\": {\n",
      "                    \"type\": \"numerical\",\n",
      "                    \"subtype\": \"integer\"\n",
      "                }\n",
      "            },\n",
      "            \"primary_key\": \"user_id\"\n",
      "        },\n",
      "        \"sessions\": {\n",
      "            \"fields\": {\n",
      "                \"session_id\": {\n",
      "                    \"type\": \"id\",\n",
      "                    \"subtype\": \"integer\"\n",
      "                },\n",
      "                \"user_id\": {\n",
      "                    \"type\": \"id\",\n",
      "                    \"subtype\": \"integer\",\n",
      "                    \"ref\": {\n",
      "                        \"table\": \"users\",\n",
      "                        \"field\": \"user_id\"\n",
      "                    }\n",
      "                },\n",
      "                \"device\": {\n",
      "                    \"type\": \"categorical\"\n",
      "                },\n",
      "                \"os\": {\n",
      "                    \"type\": \"categorical\"\n",
      "                },\n",
      "                \"minutes\": {\n",
      "                    \"type\": \"numerical\",\n",
      "                    \"subtype\": \"integer\"\n",
      "                }\n",
      "            },\n",
      "            \"primary_key\": \"session_id\"\n",
      "        },\n",
      "        \"transactions\": {\n",
      "            \"fields\": {\n",
      "                \"timestamp\": {\n",
      "                    \"type\": \"datetime\",\n",
      "                    \"format\": \"%Y-%m-%d\"\n",
      "                },\n",
      "                \"transaction_id\": {\n",
      "                    \"type\": \"id\",\n",
      "                    \"subtype\": \"integer\"\n",
      "                },\n",
      "                \"session_id\": {\n",
      "                    \"type\": \"id\",\n",
      "                    \"subtype\": \"integer\",\n",
      "                    \"ref\": {\n",
      "                        \"table\": \"sessions\",\n",
      "                        \"field\": \"session_id\"\n",
      "                    }\n",
      "                },\n",
      "                \"amount\": {\n",
      "                    \"type\": \"numerical\",\n",
      "                    \"subtype\": \"float\"\n",
      "                },\n",
      "                \"cancelled\": {\n",
      "                    \"type\": \"boolean\"\n",
      "                }\n",
      "            },\n",
      "            \"primary_key\": \"transaction_id\"\n",
      "        }\n",
      "    }\n",
      "}\n"
     ]
    }
   ],
   "source": [
    "with open('demo_metadata.json') as meta_file:\n",
    "    print(meta_file.read())"
   ]
  },
  {
   "cell_type": "markdown",
   "metadata": {},
   "source": [
    "After creating the JSON file, loading it back as a `metadata` object is\n",
    "as simple as passing it to the `Metadata` constructor:"
   ]
  },
  {
   "cell_type": "code",
   "execution_count": 18,
   "metadata": {
    "attributes": {
     "classes": [
      ""
     ],
     "id": ""
    }
   },
   "outputs": [
    {
     "data": {
      "text/plain": [
       "Metadata\n",
       "  root_path: \n",
       "  tables: ['users', 'sessions', 'transactions']\n",
       "  relationships:\n",
       "    sessions.user_id -> users.user_id\n",
       "    transactions.session_id -> sessions.session_id"
      ]
     },
     "execution_count": 18,
     "metadata": {},
     "output_type": "execute_result"
    }
   ],
   "source": [
    "loaded = Metadata('demo_metadata.json')\n",
    "loaded"
   ]
  },
  {
   "cell_type": "code",
   "execution_count": null,
   "metadata": {},
   "outputs": [],
   "source": []
  }
 ],
 "metadata": {
  "kernelspec": {
   "display_name": "Python 3 (ipykernel)",
   "language": "python",
   "name": "python3"
  },
  "language_info": {
   "codemirror_mode": {
    "name": "ipython",
    "version": 3
   },
   "file_extension": ".py",
   "mimetype": "text/x-python",
   "name": "python",
   "nbconvert_exporter": "python",
   "pygments_lexer": "ipython3",
   "version": "3.7.12"
  }
 },
 "nbformat": 4,
 "nbformat_minor": 4
}
